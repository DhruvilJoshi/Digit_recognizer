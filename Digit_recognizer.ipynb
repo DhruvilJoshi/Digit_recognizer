{
 "cells": [
  {
   "cell_type": "code",
   "execution_count": 1,
   "metadata": {},
   "outputs": [
    {
     "name": "stderr",
     "output_type": "stream",
     "text": [
      "C:\\Users\\dhruv\\AppData\\Local\\Continuum\\anaconda3\\lib\\site-packages\\h5py\\__init__.py:72: UserWarning: h5py is running against HDF5 1.10.2 when it was built against 1.10.3, this may cause problems\n",
      "  '{0}.{1}.{2}'.format(*version.hdf5_built_version_tuple)\n",
      "Using TensorFlow backend.\n"
     ]
    }
   ],
   "source": [
    "from tensorflow.keras.preprocessing.image import ImageDataGenerator\n",
    "from tensorflow.keras.optimizers import Adam\n",
    "from tensorflow.keras.preprocessing.image import img_to_array\n",
    "from sklearn.preprocessing import LabelBinarizer\n",
    "from sklearn.model_selection import train_test_split\n",
    "from keras.utils import to_categorical\n",
    "import matplotlib.pyplot as plt\n",
    "from imutils import paths\n",
    "import imutils\n",
    "import numpy as np\n",
    "import argparse\n",
    "import random\n",
    "import pickle\n",
    "import cv2\n",
    "import os"
   ]
  },
  {
   "cell_type": "code",
   "execution_count": 2,
   "metadata": {},
   "outputs": [],
   "source": [
    "# link to data\n",
    "data_root = 'C:/Users/dhruv/Downloads/split_data/split_data'"
   ]
  },
  {
   "cell_type": "code",
   "execution_count": 3,
   "metadata": {},
   "outputs": [],
   "source": [
    "# initialize the data and labels\n",
    "data = []\n",
    "labels = []\n",
    "dir_labels = ()\n",
    "num_class = 0\n"
   ]
  },
  {
   "cell_type": "code",
   "execution_count": 4,
   "metadata": {},
   "outputs": [
    {
     "name": "stdout",
     "output_type": "stream",
     "text": [
      "[INFO] Finding Labels...\n",
      "('0',)\n",
      "1\n",
      "('0', '1')\n",
      "2\n",
      "('0', '1', '2')\n",
      "3\n",
      "('0', '1', '2', '3')\n",
      "4\n",
      "('0', '1', '2', '3', '4')\n",
      "5\n",
      "('0', '1', '2', '3', '4', '5')\n",
      "6\n",
      "('0', '1', '2', '3', '4', '5', '6')\n",
      "7\n",
      "('0', '1', '2', '3', '4', '5', '6', '7')\n",
      "8\n",
      "('0', '1', '2', '3', '4', '5', '6', '7', '8')\n",
      "9\n",
      "('0', '1', '2', '3', '4', '5', '6', '7', '8', '9')\n",
      "10\n"
     ]
    }
   ],
   "source": [
    "print(\"[INFO] Finding Labels...\")\n",
    "for file in os.listdir(data_root) :\n",
    "    temp_tuple=(file,'null')\n",
    "    dir_labels=dir_labels+temp_tuple\n",
    "    dir_labels=dir_labels[:-1]\n",
    "    print(dir_labels)\n",
    "    num_class=num_class+1\n",
    "    print(num_class)"
   ]
  },
  {
   "cell_type": "code",
   "execution_count": 5,
   "metadata": {},
   "outputs": [
    {
     "name": "stdout",
     "output_type": "stream",
     "text": [
      "[INFO] Loading Images...\n"
     ]
    }
   ],
   "source": [
    "# grab the image paths and randomly shuffle them\n",
    "print(\"[INFO] Loading Images...\")\n",
    "imagePaths = sorted(list(paths.list_images(data_root)))\n",
    "random.seed(3)\n",
    "random.shuffle(imagePaths)"
   ]
  },
  {
   "cell_type": "code",
   "execution_count": 6,
   "metadata": {},
   "outputs": [],
   "source": [
    "# loop over the input images\n",
    "for imagePath in imagePaths:\n",
    "    # load the image, pre-process it, and store in a list\n",
    "    image = cv2.imread(imagePath)\n",
    "    image = cv2.cvtColor(image, cv2.COLOR_BGR2GRAY)\n",
    "    image = cv2.resize(image, (28, 28)) # 28 x 28 x 1\n",
    "    image = img_to_array(image)\n",
    "    data.append(image)\n",
    "    # labels list\n",
    "    label = imagePath.split(os.path.sep)[-2]\n",
    "    for i in range(num_class) :\n",
    "        if label == dir_labels[i] :\n",
    "            label = i\n",
    "    #print(label) \n",
    "    labels.append(label)"
   ]
  },
  {
   "cell_type": "code",
   "execution_count": 7,
   "metadata": {},
   "outputs": [],
   "source": [
    "# scale pixel intensities to the range [0, 1]\n",
    "data = np.array(data, dtype='float') / 255.0 # 0 to 255\n",
    "labels = np.array(labels)"
   ]
  },
  {
   "cell_type": "code",
   "execution_count": 8,
   "metadata": {},
   "outputs": [],
   "source": [
    "# the data for training 80% and the remaining 20% for testing\n",
    "(trainX, testX, trainY, testY) = train_test_split(data, labels, test_size=0.20, random_state=42)"
   ]
  },
  {
   "cell_type": "code",
   "execution_count": 9,
   "metadata": {},
   "outputs": [],
   "source": [
    "# convert the labels from integers to vectors\n",
    "trainY = to_categorical(trainY, num_classes=num_class)\n",
    "testY = to_categorical(testY, num_classes=num_class)"
   ]
  },
  {
   "cell_type": "code",
   "execution_count": 10,
   "metadata": {},
   "outputs": [],
   "source": [
    "# Model\n",
    "from keras.models import Sequential\n",
    "from keras.layers.convolutional import Conv2D\n",
    "from keras.layers.convolutional import MaxPooling2D\n",
    "from keras.layers.core import Activation\n",
    "from keras.layers.core import Flatten\n",
    "from keras.layers.core import Dense\n",
    "from keras import backend as K\n",
    "\n",
    "\n",
    "class LeNet:\n",
    "    @staticmethod\n",
    "    def build(width, height, depth, classes):\n",
    "        '''\n",
    "        initialize the model\n",
    "        '''\n",
    "        model = Sequential()\n",
    "        inputShape = (height, width, depth)\n",
    "\n",
    "        # if we are using 'channels first', update the input shape\n",
    "        if K.image_data_format() == 'channels_first':\n",
    "            inputShape = (depth, height, width)\n",
    "\n",
    "        # first set of CONV => ReLU => POOL layers\n",
    "        model.add(Conv2D(20, (5, 5), padding='same', input_shape=inputShape))\n",
    "        model.add(Activation('relu'))\n",
    "        model.add(MaxPooling2D(pool_size=(2, 2), strides=(2, 2)))\n",
    "\n",
    "        # second layer of CONV => ReLU => POOL layers\n",
    "        model.add(Conv2D(50, (5, 5), padding='same'))\n",
    "        model.add(Activation('relu'))\n",
    "        model.add(MaxPooling2D(pool_size=(2, 2), strides=(2, 2)))\n",
    "\n",
    "        # first (and only) set of FC => ReLU layeres\n",
    "        model.add(Flatten())\n",
    "        model.add(Dense(500))\n",
    "        model.add(Activation('relu'))\n",
    "\n",
    "        # softmax classifier\n",
    "        model.add(Dense(classes))\n",
    "        model.add(Activation('softmax'))\n",
    "\n",
    "        return model"
   ]
  },
  {
   "cell_type": "code",
   "execution_count": 11,
   "metadata": {},
   "outputs": [
    {
     "name": "stdout",
     "output_type": "stream",
     "text": [
      "[INFO] compiling model...\n",
      "WARNING:tensorflow:From C:\\Users\\dhruv\\AppData\\Local\\Continuum\\anaconda3\\lib\\site-packages\\tensorflow_core\\python\\ops\\resource_variable_ops.py:1630: calling BaseResourceVariable.__init__ (from tensorflow.python.ops.resource_variable_ops) with constraint is deprecated and will be removed in a future version.\n",
      "Instructions for updating:\n",
      "If using Keras pass *_constraint arguments to layers.\n",
      "WARNING:tensorflow:From C:\\Users\\dhruv\\AppData\\Local\\Continuum\\anaconda3\\lib\\site-packages\\keras\\backend\\tensorflow_backend.py:4070: The name tf.nn.max_pool is deprecated. Please use tf.nn.max_pool2d instead.\n",
      "\n"
     ]
    }
   ],
   "source": [
    "print('[INFO] compiling model...')\n",
    "model = LeNet.build(width=28, height=28, depth=1, classes=num_class)\n",
    "model.compile(loss=['categorical_crossentropy'], optimizer='adam', metrics=['accuracy'])"
   ]
  },
  {
   "cell_type": "code",
   "execution_count": 12,
   "metadata": {},
   "outputs": [
    {
     "name": "stdout",
     "output_type": "stream",
     "text": [
      "[INFO] training network...\n",
      "WARNING:tensorflow:From C:\\Users\\dhruv\\AppData\\Local\\Continuum\\anaconda3\\lib\\site-packages\\keras\\backend\\tensorflow_backend.py:422: The name tf.global_variables is deprecated. Please use tf.compat.v1.global_variables instead.\n",
      "\n",
      "Train on 224 samples, validate on 56 samples\n",
      "Epoch 1/25\n",
      "224/224 [==============================] - 1s 3ms/step - loss: 2.3593 - accuracy: 0.0938 - val_loss: 2.2988 - val_accuracy: 0.1071\n",
      "Epoch 2/25\n",
      "224/224 [==============================] - 0s 2ms/step - loss: 2.3092 - accuracy: 0.1205 - val_loss: 2.3076 - val_accuracy: 0.0714\n",
      "Epoch 3/25\n",
      "224/224 [==============================] - 0s 2ms/step - loss: 2.3025 - accuracy: 0.1071 - val_loss: 2.3162 - val_accuracy: 0.0714\n",
      "Epoch 4/25\n",
      "224/224 [==============================] - 0s 2ms/step - loss: 2.2978 - accuracy: 0.1071 - val_loss: 2.3229 - val_accuracy: 0.0714\n",
      "Epoch 5/25\n",
      "224/224 [==============================] - 0s 1ms/step - loss: 2.2972 - accuracy: 0.1205 - val_loss: 2.3061 - val_accuracy: 0.0357\n",
      "Epoch 6/25\n",
      "224/224 [==============================] - 0s 2ms/step - loss: 2.2830 - accuracy: 0.1250 - val_loss: 2.3100 - val_accuracy: 0.0357\n",
      "Epoch 7/25\n",
      "224/224 [==============================] - 0s 2ms/step - loss: 2.2619 - accuracy: 0.1741 - val_loss: 2.2758 - val_accuracy: 0.0714\n",
      "Epoch 8/25\n",
      "224/224 [==============================] - 0s 2ms/step - loss: 2.2132 - accuracy: 0.2768 - val_loss: 2.2115 - val_accuracy: 0.1786\n",
      "Epoch 9/25\n",
      "224/224 [==============================] - 0s 2ms/step - loss: 2.1307 - accuracy: 0.3170 - val_loss: 2.1114 - val_accuracy: 0.3750\n",
      "Epoch 10/25\n",
      "224/224 [==============================] - 0s 2ms/step - loss: 2.0102 - accuracy: 0.3929 - val_loss: 1.9682 - val_accuracy: 0.4643\n",
      "Epoch 11/25\n",
      "224/224 [==============================] - 0s 2ms/step - loss: 1.8268 - accuracy: 0.4286 - val_loss: 1.7532 - val_accuracy: 0.5357\n",
      "Epoch 12/25\n",
      "224/224 [==============================] - 0s 2ms/step - loss: 1.6139 - accuracy: 0.5134 - val_loss: 1.5677 - val_accuracy: 0.5179\n",
      "Epoch 13/25\n",
      "224/224 [==============================] - 0s 2ms/step - loss: 1.4571 - accuracy: 0.5759 - val_loss: 1.4806 - val_accuracy: 0.5536\n",
      "Epoch 14/25\n",
      "224/224 [==============================] - 0s 2ms/step - loss: 1.2514 - accuracy: 0.5714 - val_loss: 1.2331 - val_accuracy: 0.6786\n",
      "Epoch 15/25\n",
      "224/224 [==============================] - 0s 2ms/step - loss: 1.1441 - accuracy: 0.6295 - val_loss: 1.2733 - val_accuracy: 0.6250\n",
      "Epoch 16/25\n",
      "224/224 [==============================] - 0s 2ms/step - loss: 1.0658 - accuracy: 0.6696 - val_loss: 1.1874 - val_accuracy: 0.6786\n",
      "Epoch 17/25\n",
      "224/224 [==============================] - 0s 2ms/step - loss: 0.9393 - accuracy: 0.7054 - val_loss: 1.1264 - val_accuracy: 0.6964\n",
      "Epoch 18/25\n",
      "224/224 [==============================] - 0s 2ms/step - loss: 0.8402 - accuracy: 0.7545 - val_loss: 1.1922 - val_accuracy: 0.6786\n",
      "Epoch 19/25\n",
      "224/224 [==============================] - 0s 2ms/step - loss: 0.7339 - accuracy: 0.7455 - val_loss: 1.0788 - val_accuracy: 0.6786\n",
      "Epoch 20/25\n",
      "224/224 [==============================] - 0s 2ms/step - loss: 0.6817 - accuracy: 0.7589 - val_loss: 1.1053 - val_accuracy: 0.6607\n",
      "Epoch 21/25\n",
      "224/224 [==============================] - 0s 2ms/step - loss: 0.6242 - accuracy: 0.8080 - val_loss: 1.0763 - val_accuracy: 0.6964\n",
      "Epoch 22/25\n",
      "224/224 [==============================] - 0s 2ms/step - loss: 0.6027 - accuracy: 0.7991 - val_loss: 1.0264 - val_accuracy: 0.7321\n",
      "Epoch 23/25\n",
      "224/224 [==============================] - 0s 2ms/step - loss: 0.5533 - accuracy: 0.8393 - val_loss: 1.0681 - val_accuracy: 0.7143\n",
      "Epoch 24/25\n",
      "224/224 [==============================] - 0s 2ms/step - loss: 0.4723 - accuracy: 0.8571 - val_loss: 0.9879 - val_accuracy: 0.7679\n",
      "Epoch 25/25\n",
      "224/224 [==============================] - 0s 2ms/step - loss: 0.4040 - accuracy: 0.8884 - val_loss: 0.9569 - val_accuracy: 0.7143\n"
     ]
    }
   ],
   "source": [
    "# train the network\n",
    "print('[INFO] training network...')\n",
    "H = model.fit(trainX, trainY, validation_data=(testX, testY), batch_size=32, epochs=25, verbose=1)"
   ]
  },
  {
   "cell_type": "code",
   "execution_count": 13,
   "metadata": {},
   "outputs": [
    {
     "data": {
      "image/png": "[encoded data removed]",
      "text/plain": [
       "<Figure size 432x288 with 1 Axes>"
      ]
     },
     "metadata": {},
     "output_type": "display_data"
    }
   ],
   "source": [
    "plt.style.use('ggplot')\n",
    "plt.figure()\n",
    "plt.plot(H.history['loss'], label='train_loss')\n",
    "plt.plot(H.history['val_loss'], label='val_loss')\n",
    "plt.plot(H.history['accuracy'], label='accuracy')\n",
    "plt.plot(H.history['val_accuracy'], label='val_accuracy')\n",
    "plt.title('Training Loss and Accuracy')\n",
    "plt.xlabel('Epoch #')\n",
    "plt.ylabel('Loss/Accuracy')\n",
    "plt.legend()\n",
    "plt.show()"
   ]
  },
  {
   "cell_type": "code",
   "execution_count": 14,
   "metadata": {},
   "outputs": [
    {
     "data": {
      "image/png": "[encoded data removed]",
      "text/plain": [
       "<Figure size 432x288 with 1 Axes>"
      ]
     },
     "metadata": {},
     "output_type": "display_data"
    }
   ],
   "source": [
    "#view data \n",
    "def draw(n):\n",
    "    plt.imshow(n,cmap=plt.cm.binary)\n",
    "    plt.show()\n",
    "     \n",
    "draw(trainX[0])"
   ]
  },
  {
   "cell_type": "code",
   "execution_count": 16,
   "metadata": {},
   "outputs": [
    {
     "name": "stdout",
     "output_type": "stream",
     "text": [
      "label ->  [0. 0. 1. 0. 0. 0. 0. 0. 0. 0.]\n",
      "prediction ->  2\n"
     ]
    },
    {
     "data": {
      "image/png": "[encoded data removed]",
      "text/plain": [
       "<Figure size 432x288 with 1 Axes>"
      ]
     },
     "metadata": {},
     "output_type": "display_data"
    }
   ],
   "source": [
    "# prediction using model \n",
    "predictions=model.predict([testX])\n",
    "print('label -> ',testY[4])\n",
    "print('prediction -> ',np.argmax(predictions[4]))\n",
    " \n",
    "draw(testX[4])"
   ]
  },
  {
   "cell_type": "code",
   "execution_count": 17,
   "metadata": {},
   "outputs": [],
   "source": [
    "#saving the model\n",
    "model.save('Digit_recognizer.h5')"
   ]
  },
  {
   "cell_type": "code",
   "execution_count": null,
   "metadata": {},
   "outputs": [],
   "source": []
  }
 ],
 "metadata": {
  "kernelspec": {
   "display_name": "Python 3 (ipykernel)",
   "language": "python",
   "name": "python3"
  },
  "language_info": {
   "codemirror_mode": {
    "name": "ipython",
    "version": 3
   },
   "file_extension": ".py",
   "mimetype": "text/x-python",
   "name": "python",
   "nbconvert_exporter": "python",
   "pygments_lexer": "ipython3",
   "version": "3.7.11"
  }
 },
 "nbformat": 4,
 "nbformat_minor": 2
}
